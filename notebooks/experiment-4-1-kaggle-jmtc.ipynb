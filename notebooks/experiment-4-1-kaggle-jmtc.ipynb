{
 "cells": [
  {
   "cell_type": "markdown",
   "metadata": {},
   "source": [
    "## Installing Libraries"
   ]
  },
  {
   "cell_type": "code",
   "execution_count": 1,
   "metadata": {
    "collapsed": true,
    "execution": {
     "iopub.execute_input": "2023-05-02T13:07:03.845048Z",
     "iopub.status.busy": "2023-05-02T13:07:03.844613Z",
     "iopub.status.idle": "2023-05-02T13:07:45.021024Z",
     "shell.execute_reply": "2023-05-02T13:07:45.020082Z",
     "shell.execute_reply.started": "2023-05-02T13:07:03.845022Z"
    },
    "jupyter": {
     "outputs_hidden": true
    }
   },
   "outputs": [
    {
     "name": "stdout",
     "output_type": "stream",
     "text": [
      "Requirement already satisfied: nltk in /usr/local/lib/python3.8/site-packages (3.8.1)\n",
      "Requirement already satisfied: click in /usr/local/lib/python3.8/site-packages (from nltk) (8.1.3)\n",
      "Requirement already satisfied: tqdm in /usr/local/lib/python3.8/site-packages (from nltk) (4.65.0)\n",
      "Requirement already satisfied: joblib in /usr/local/lib/python3.8/site-packages (from nltk) (1.2.0)\n",
      "Requirement already satisfied: regex>=2021.8.3 in /usr/local/lib/python3.8/site-packages (from nltk) (2023.3.23)\n",
      "\u001b[33mWARNING: Running pip as the 'root' user can result in broken permissions and conflicting behaviour with the system package manager. It is recommended to use a virtual environment instead: https://pip.pypa.io/warnings/venv\u001b[0m\u001b[33m\n",
      "\u001b[0m\u001b[33mWARNING: You are using pip version 22.0.4; however, version 23.1.2 is available.\n",
      "You should consider upgrading via the '/usr/local/bin/python -m pip install --upgrade pip' command.\u001b[0m\u001b[33m\n",
      "\u001b[0m\u001b[33mWARNING: Running pip as the 'root' user can result in broken permissions and conflicting behaviour with the system package manager. It is recommended to use a virtual environment instead: https://pip.pypa.io/warnings/venv\u001b[0m\u001b[33m\n",
      "\u001b[0m\u001b[33mWARNING: You are using pip version 22.0.4; however, version 23.1.2 is available.\n",
      "You should consider upgrading via the '/usr/local/bin/python -m pip install --upgrade pip' command.\u001b[0m\u001b[33m\n",
      "\u001b[0m"
     ]
    },
    {
     "name": "stderr",
     "output_type": "stream",
     "text": [
      "D0502 13:07:41.803092410   16828 config.cc:119]                        gRPC EXPERIMENT tcp_frame_size_tuning               OFF (default:OFF)\n",
      "D0502 13:07:41.803135650   16828 config.cc:119]                        gRPC EXPERIMENT tcp_rcv_lowat                       OFF (default:OFF)\n",
      "D0502 13:07:41.803139326   16828 config.cc:119]                        gRPC EXPERIMENT peer_state_based_framing            OFF (default:OFF)\n",
      "D0502 13:07:41.803142000   16828 config.cc:119]                        gRPC EXPERIMENT flow_control_fixes                  ON  (default:ON)\n",
      "D0502 13:07:41.803144387   16828 config.cc:119]                        gRPC EXPERIMENT memory_pressure_controller          OFF (default:OFF)\n",
      "D0502 13:07:41.803146802   16828 config.cc:119]                        gRPC EXPERIMENT unconstrained_max_quota_buffer_size OFF (default:OFF)\n",
      "D0502 13:07:41.803150178   16828 config.cc:119]                        gRPC EXPERIMENT new_hpack_huffman_decoder           ON  (default:ON)\n",
      "D0502 13:07:41.803152588   16828 config.cc:119]                        gRPC EXPERIMENT event_engine_client                 OFF (default:OFF)\n",
      "D0502 13:07:41.803154871   16828 config.cc:119]                        gRPC EXPERIMENT monitoring_experiment               ON  (default:ON)\n",
      "D0502 13:07:41.803157183   16828 config.cc:119]                        gRPC EXPERIMENT promise_based_client_call           OFF (default:OFF)\n",
      "D0502 13:07:41.803159437   16828 config.cc:119]                        gRPC EXPERIMENT free_large_allocator                OFF (default:OFF)\n",
      "D0502 13:07:41.803161828   16828 config.cc:119]                        gRPC EXPERIMENT promise_based_server_call           OFF (default:OFF)\n",
      "D0502 13:07:41.803164142   16828 config.cc:119]                        gRPC EXPERIMENT transport_supplies_client_latency   OFF (default:OFF)\n",
      "D0502 13:07:41.803166432   16828 config.cc:119]                        gRPC EXPERIMENT event_engine_listener               OFF (default:OFF)\n",
      "I0502 13:07:41.803415033   16828 ev_epoll1_linux.cc:122]               grpc epoll fd: 62\n",
      "D0502 13:07:41.808761052   16828 ev_posix.cc:144]                      Using polling engine: epoll1\n",
      "D0502 13:07:41.808783466   16828 dns_resolver_ares.cc:822]             Using ares dns resolver\n",
      "D0502 13:07:41.809215965   16828 lb_policy_registry.cc:46]             registering LB policy factory for \"priority_experimental\"\n",
      "D0502 13:07:41.809224263   16828 lb_policy_registry.cc:46]             registering LB policy factory for \"outlier_detection_experimental\"\n",
      "D0502 13:07:41.809228049   16828 lb_policy_registry.cc:46]             registering LB policy factory for \"weighted_target_experimental\"\n",
      "D0502 13:07:41.809231349   16828 lb_policy_registry.cc:46]             registering LB policy factory for \"pick_first\"\n",
      "D0502 13:07:41.809234382   16828 lb_policy_registry.cc:46]             registering LB policy factory for \"round_robin\"\n",
      "D0502 13:07:41.809237467   16828 lb_policy_registry.cc:46]             registering LB policy factory for \"weighted_round_robin_experimental\"\n",
      "D0502 13:07:41.809243853   16828 lb_policy_registry.cc:46]             registering LB policy factory for \"ring_hash_experimental\"\n",
      "D0502 13:07:41.809259612   16828 lb_policy_registry.cc:46]             registering LB policy factory for \"grpclb\"\n",
      "D0502 13:07:41.809291205   16828 lb_policy_registry.cc:46]             registering LB policy factory for \"rls_experimental\"\n",
      "D0502 13:07:41.809308485   16828 lb_policy_registry.cc:46]             registering LB policy factory for \"xds_cluster_manager_experimental\"\n",
      "D0502 13:07:41.809312154   16828 lb_policy_registry.cc:46]             registering LB policy factory for \"xds_cluster_impl_experimental\"\n",
      "D0502 13:07:41.809315910   16828 lb_policy_registry.cc:46]             registering LB policy factory for \"cds_experimental\"\n",
      "D0502 13:07:41.809319412   16828 lb_policy_registry.cc:46]             registering LB policy factory for \"xds_cluster_resolver_experimental\"\n",
      "D0502 13:07:41.809322753   16828 lb_policy_registry.cc:46]             registering LB policy factory for \"xds_override_host_experimental\"\n",
      "D0502 13:07:41.809325981   16828 lb_policy_registry.cc:46]             registering LB policy factory for \"xds_wrr_locality_experimental\"\n",
      "D0502 13:07:41.809330231   16828 certificate_provider_registry.cc:35]  registering certificate provider factory for \"file_watcher\"\n",
      "I0502 13:07:41.812083334   16828 socket_utils_common_posix.cc:408]     Disabling AF_INET6 sockets because ::1 is not available.\n",
      "I0502 13:07:41.828315343   16828 socket_utils_common_posix.cc:337]     TCP_USER_TIMEOUT is available. TCP_USER_TIMEOUT will be used thereafter\n",
      "E0502 13:07:41.836036404   16828 oauth2_credentials.cc:236]            oauth_fetch: UNKNOWN:C-ares status is not ARES_SUCCESS qtype=A name=metadata.google.internal. is_balancer=0: Domain name not found {created_time:\"2023-05-02T13:07:41.836016027+00:00\", grpc_status:2}\n",
      "/usr/local/lib/python3.8/site-packages/tqdm/auto.py:21: TqdmWarning: IProgress not found. Please update jupyter and ipywidgets. See https://ipywidgets.readthedocs.io/en/stable/user_install.html\n",
      "  from .autonotebook import tqdm as notebook_tqdm\n",
      "[nltk_data] Downloading package stopwords to /root/nltk_data...\n",
      "[nltk_data]   Package stopwords is already up-to-date!\n"
     ]
    },
    {
     "data": {
      "text/plain": [
       "True"
      ]
     },
     "execution_count": 1,
     "metadata": {},
     "output_type": "execute_result"
    }
   ],
   "source": [
    "!pip install nltk\n",
    "!pip install transformers --quiet\n",
    "\n",
    "import re\n",
    "import nltk\n",
    "import string\n",
    "import os, gc\n",
    "import pandas as pd\n",
    "import tensorflow as tf\n",
    "from transformers import TFAutoModel\n",
    "from transformers import AutoTokenizer\n",
    "nltk.download('stopwords')"
   ]
  },
  {
   "cell_type": "markdown",
   "metadata": {},
   "source": [
    "## Setting data paths"
   ]
  },
  {
   "cell_type": "code",
   "execution_count": 2,
   "metadata": {
    "execution": {
     "iopub.execute_input": "2023-05-02T13:08:16.167230Z",
     "iopub.status.busy": "2023-05-02T13:08:16.166338Z",
     "iopub.status.idle": "2023-05-02T13:08:16.172642Z",
     "shell.execute_reply": "2023-05-02T13:08:16.171776Z",
     "shell.execute_reply.started": "2023-05-02T13:08:16.167180Z"
    }
   },
   "outputs": [],
   "source": [
    "main_data_dir_path = \"../input/jigsaw-multilingual-toxic-comment-classification/\"\n",
    "toxic_comment_train_csv_path = main_data_dir_path + \"jigsaw-toxic-comment-train.csv\"\n",
    "unintended_bias_train_csv_path = main_data_dir_path + \"jigsaw-unintended-bias-train.csv\"\n",
    "validation_csv_path = main_data_dir_path + \"validation.csv\"\n",
    "test_csv_path = main_data_dir_path + \"test.csv\"\n",
    "submission_csv_path = main_data_dir_path + \"sample_submission.csv\""
   ]
  },
  {
   "cell_type": "markdown",
   "metadata": {},
   "source": [
    "## TPU Configurations"
   ]
  },
  {
   "cell_type": "code",
   "execution_count": 3,
   "metadata": {
    "collapsed": true,
    "execution": {
     "iopub.execute_input": "2023-05-02T13:08:17.816226Z",
     "iopub.status.busy": "2023-05-02T13:08:17.815415Z",
     "iopub.status.idle": "2023-05-02T13:08:28.138512Z",
     "shell.execute_reply": "2023-05-02T13:08:28.137547Z",
     "shell.execute_reply.started": "2023-05-02T13:08:17.816188Z"
    },
    "jupyter": {
     "outputs_hidden": true
    }
   },
   "outputs": [
    {
     "name": "stdout",
     "output_type": "stream",
     "text": [
      "Running on TPU  \n",
      "INFO:tensorflow:Deallocate tpu buffers before initializing tpu system.\n",
      "INFO:tensorflow:Initializing the TPU system: local\n",
      "INFO:tensorflow:Finished initializing TPU system.\n",
      "INFO:tensorflow:Found TPU system:\n",
      "INFO:tensorflow:*** Num TPU Cores: 8\n",
      "INFO:tensorflow:*** Num TPU Workers: 1\n",
      "INFO:tensorflow:*** Num TPU Cores Per Worker: 8\n",
      "INFO:tensorflow:*** Available Device: _DeviceAttributes(/job:localhost/replica:0/task:0/device:CPU:0, CPU, 0, 0)\n",
      "INFO:tensorflow:*** Available Device: _DeviceAttributes(/job:localhost/replica:0/task:0/device:TPU:0, TPU, 0, 0)\n",
      "INFO:tensorflow:*** Available Device: _DeviceAttributes(/job:localhost/replica:0/task:0/device:TPU:1, TPU, 0, 0)\n",
      "INFO:tensorflow:*** Available Device: _DeviceAttributes(/job:localhost/replica:0/task:0/device:TPU:2, TPU, 0, 0)\n",
      "INFO:tensorflow:*** Available Device: _DeviceAttributes(/job:localhost/replica:0/task:0/device:TPU:3, TPU, 0, 0)\n",
      "INFO:tensorflow:*** Available Device: _DeviceAttributes(/job:localhost/replica:0/task:0/device:TPU:4, TPU, 0, 0)\n",
      "INFO:tensorflow:*** Available Device: _DeviceAttributes(/job:localhost/replica:0/task:0/device:TPU:5, TPU, 0, 0)\n",
      "INFO:tensorflow:*** Available Device: _DeviceAttributes(/job:localhost/replica:0/task:0/device:TPU:6, TPU, 0, 0)\n",
      "INFO:tensorflow:*** Available Device: _DeviceAttributes(/job:localhost/replica:0/task:0/device:TPU:7, TPU, 0, 0)\n",
      "INFO:tensorflow:*** Available Device: _DeviceAttributes(/job:localhost/replica:0/task:0/device:TPU_SYSTEM:0, TPU_SYSTEM, 0, 0)\n",
      "REPLICAS:  8\n"
     ]
    }
   ],
   "source": [
    "#################### TPU Configurations ####################\n",
    "# Detect hardware, return appropriate distribution strategy\n",
    "try:\n",
    "    # TPU detection. No parameters necessary if TPU_NAME environment variable is\n",
    "    # set: this is always the case on Kaggle.\n",
    "    tpu = tf.distribute.cluster_resolver.TPUClusterResolver()\n",
    "    print('Running on TPU ', tpu.master())\n",
    "except ValueError:\n",
    "    tpu = None\n",
    "\n",
    "if tpu:\n",
    "    tf.config.experimental_connect_to_cluster(tpu)\n",
    "    tf.tpu.experimental.initialize_tpu_system(tpu)\n",
    "    strategy = tf.distribute.TPUStrategy(tpu)\n",
    "else:\n",
    "    # Default distribution strategy in Tensorflow. Works on CPU and single GPU.\n",
    "    strategy = tf.distribute.get_strategy()\n",
    "\n",
    "print(\"REPLICAS: \", strategy.num_replicas_in_sync)\n",
    "\n",
    "AUTO = tf.data.experimental.AUTOTUNE\n",
    "# Configuration\n",
    "EPOCHS = 2\n",
    "BATCH_SIZE = 16 * strategy.num_replicas_in_sync\n",
    "MAX_LEN = 192\n",
    "MODEL = 'xlm-roberta-large'\n",
    "NUM_SAMPLES = 150000\n",
    "RANDOM_STATE = 42\n",
    "LEARNING_RATE = 1e-5 ######################### MAIN CHANGE ############################\n",
    "WEIGHT_DECAY = 1e-6"
   ]
  },
  {
   "cell_type": "markdown",
   "metadata": {},
   "source": [
    "## Reading & Balancing the data by Target column"
   ]
  },
  {
   "cell_type": "code",
   "execution_count": 4,
   "metadata": {
    "execution": {
     "iopub.execute_input": "2023-05-02T13:08:33.206972Z",
     "iopub.status.busy": "2023-05-02T13:08:33.206044Z",
     "iopub.status.idle": "2023-05-02T13:08:51.274060Z",
     "shell.execute_reply": "2023-05-02T13:08:51.272830Z",
     "shell.execute_reply.started": "2023-05-02T13:08:33.206937Z"
    }
   },
   "outputs": [],
   "source": [
    "## Reading csv files \n",
    "train1 = pd.read_csv(toxic_comment_train_csv_path)\n",
    "train2 = pd.read_csv(unintended_bias_train_csv_path)\n",
    "valid = pd.read_csv(validation_csv_path)\n",
    "test = pd.read_csv(test_csv_path)\n",
    "sub = pd.read_csv(submission_csv_path)\n",
    "\n",
    "## Converting floating points to integers ##\n",
    "train2.toxic = train2['toxic'].round().astype(int)\n",
    "\n",
    "##### BALANCING THE DATA ##### \n",
    "# : Taking all the data from toxic_comment_train_file & all data corresponding to unintended bias train file\n",
    "# & sampling 150k observations randomly from non-toxic observation population.\n",
    "\n",
    "# Combine train1 with a subset of train2\n",
    "train = pd.concat([\n",
    "    train1[['comment_text', 'toxic']],\n",
    "    train2[['comment_text', 'toxic']].query('toxic==1'),\n",
    "    train2[['comment_text', 'toxic']].query('toxic==0').sample(n=NUM_SAMPLES, random_state=RANDOM_STATE)\n",
    "])\n",
    "\n",
    "## Dropping missing observations with respect to comment-text column \n",
    "train = train.dropna(subset=['comment_text'])"
   ]
  },
  {
   "cell_type": "code",
   "execution_count": 5,
   "metadata": {
    "execution": {
     "iopub.execute_input": "2023-05-02T13:08:53.236389Z",
     "iopub.status.busy": "2023-05-02T13:08:53.235351Z",
     "iopub.status.idle": "2023-05-02T13:08:53.241956Z",
     "shell.execute_reply": "2023-05-02T13:08:53.240885Z",
     "shell.execute_reply.started": "2023-05-02T13:08:53.236358Z"
    }
   },
   "outputs": [],
   "source": [
    "def encode(texts, tokenizer, max_len):\n",
    "    \"\"\"\n",
    "    Function takes a list of texts, tokenizer (object)\n",
    "    initialized from HuggingFace library, max_len (defines\n",
    "    of how long the sentence lengths should be).\n",
    "    \"\"\"       \n",
    "    tokens = tokenizer(texts, max_length=max_len, \n",
    "                    truncation=True, padding='max_length',\n",
    "                    add_special_tokens=True, return_tensors='np')\n",
    "    \n",
    "    return tokens"
   ]
  },
  {
   "cell_type": "markdown",
   "metadata": {},
   "source": [
    "## Encoding comment_text"
   ]
  },
  {
   "cell_type": "code",
   "execution_count": 6,
   "metadata": {
    "execution": {
     "iopub.execute_input": "2023-05-02T13:08:56.136243Z",
     "iopub.status.busy": "2023-05-02T13:08:56.135511Z",
     "iopub.status.idle": "2023-05-02T13:09:58.248060Z",
     "shell.execute_reply": "2023-05-02T13:09:58.246383Z",
     "shell.execute_reply.started": "2023-05-02T13:08:56.136212Z"
    }
   },
   "outputs": [],
   "source": [
    "## Intializing the tokenizer ##\n",
    "tokenizer = AutoTokenizer.from_pretrained(MODEL)\n",
    "\n",
    "train_inputs = encode(train['comment_text'].values.tolist(), \n",
    "                      tokenizer, max_len=MAX_LEN)\n",
    "validation_inputs = encode(valid['comment_text'].values.tolist(),\n",
    "                          tokenizer, max_len=MAX_LEN)\n",
    "test_inputs = encode(test['content'].values.tolist(),\n",
    "                    tokenizer, max_len=MAX_LEN)"
   ]
  },
  {
   "cell_type": "markdown",
   "metadata": {},
   "source": [
    "## Preparing data using tf.data.Data API"
   ]
  },
  {
   "cell_type": "code",
   "execution_count": 7,
   "metadata": {
    "execution": {
     "iopub.execute_input": "2023-05-02T13:10:04.719007Z",
     "iopub.status.busy": "2023-05-02T13:10:04.717535Z",
     "iopub.status.idle": "2023-05-02T13:10:04.724642Z",
     "shell.execute_reply": "2023-05-02T13:10:04.723485Z",
     "shell.execute_reply.started": "2023-05-02T13:10:04.718957Z"
    }
   },
   "outputs": [],
   "source": [
    "def map_fn(input_ids, attention_mask, labels=None):\n",
    "    if labels is not None:\n",
    "        return {\"input_ids\": input_ids, \"attention_mask\": attention_mask}, labels\n",
    "    else:\n",
    "        return {\"input_ids\": input_ids, \"attention_mask\": attention_mask}"
   ]
  },
  {
   "cell_type": "code",
   "execution_count": 8,
   "metadata": {
    "execution": {
     "iopub.execute_input": "2023-05-02T13:10:05.627705Z",
     "iopub.status.busy": "2023-05-02T13:10:05.626675Z",
     "iopub.status.idle": "2023-05-02T13:10:06.513724Z",
     "shell.execute_reply": "2023-05-02T13:10:06.512320Z",
     "shell.execute_reply.started": "2023-05-02T13:10:05.627668Z"
    }
   },
   "outputs": [],
   "source": [
    "train_dataset = tf.data.Dataset.from_tensor_slices((train_inputs[\"input_ids\"],\n",
    "                                                    train_inputs[\"attention_mask\"],\n",
    "                                                   train['toxic']))\n",
    "train_dataset = train_dataset.map(map_fn)\n",
    "train_dataset = train_dataset.repeat().shuffle(2048).batch(BATCH_SIZE).prefetch(AUTO)\n",
    "\n",
    "validation_dataset = tf.data.Dataset.from_tensor_slices((validation_inputs['input_ids'],\n",
    "                                                         validation_inputs['attention_mask'],\n",
    "                                                        valid['toxic']))\n",
    "validation_dataset = validation_dataset.map(map_fn)\n",
    "validation_dataset = validation_dataset.batch(BATCH_SIZE).prefetch(AUTO)\n",
    "\n",
    "test_dataset = tf.data.Dataset.from_tensor_slices((test_inputs['input_ids'],\n",
    "                                                  test_inputs['attention_mask']))\n",
    "test_dataset = test_dataset.map(map_fn)\n",
    "test_dataset = test_dataset.batch(BATCH_SIZE)"
   ]
  },
  {
   "cell_type": "markdown",
   "metadata": {},
   "source": [
    "## Building the model"
   ]
  },
  {
   "cell_type": "code",
   "execution_count": 9,
   "metadata": {
    "execution": {
     "iopub.execute_input": "2023-05-02T13:10:07.147656Z",
     "iopub.status.busy": "2023-05-02T13:10:07.146414Z",
     "iopub.status.idle": "2023-05-02T13:10:07.157428Z",
     "shell.execute_reply": "2023-05-02T13:10:07.156439Z",
     "shell.execute_reply.started": "2023-05-02T13:10:07.147595Z"
    }
   },
   "outputs": [],
   "source": [
    "def build_model(transformer_layer, max_len):\n",
    "    \"\"\"\n",
    "    Creating the model input layers, output layers,\n",
    "    model definition and compilation.\n",
    "        \n",
    "    Returns: model object after compiling. \n",
    "    \"\"\"\n",
    "    input_ids = tf.keras.layers.Input(shape=(max_len,), \n",
    "                                      dtype=tf.int32, \n",
    "                                      name=\"input_ids\")\n",
    "    attention_mask = tf.keras.layers.Input(shape=(max_len,), \n",
    "                                       dtype=tf.int32, \n",
    "                                       name=\"attention_mask\")\n",
    "    output = transformer_layer(input_ids, \n",
    "                                 attention_mask=attention_mask)[1]\n",
    "    x = tf.keras.layers.Dense(1024, activation='relu')(output)\n",
    "    y = tf.keras.layers.Dense(1, activation='sigmoid',name='outputs')(x)\n",
    "    model = tf.keras.models.Model(inputs=[input_ids, attention_mask],\n",
    "                             outputs=y)\n",
    "    \n",
    "    optimizer = tf.keras.optimizers.Adam(learning_rate=LEARNING_RATE,\n",
    "                                         weight_decay=WEIGHT_DECAY)\n",
    "    loss = tf.keras.losses.BinaryCrossentropy()\n",
    "    AUC = tf.keras.metrics.AUC()\n",
    "    \n",
    "    model.compile(loss=loss, metrics=[AUC], optimizer=optimizer)    \n",
    "    return model"
   ]
  },
  {
   "cell_type": "markdown",
   "metadata": {},
   "source": [
    "## Loading model on TPUs"
   ]
  },
  {
   "cell_type": "code",
   "execution_count": 10,
   "metadata": {
    "collapsed": true,
    "execution": {
     "iopub.execute_input": "2023-05-02T13:10:09.057269Z",
     "iopub.status.busy": "2023-05-02T13:10:09.056291Z",
     "iopub.status.idle": "2023-05-02T13:11:00.499275Z",
     "shell.execute_reply": "2023-05-02T13:11:00.498004Z",
     "shell.execute_reply.started": "2023-05-02T13:10:09.057236Z"
    },
    "jupyter": {
     "outputs_hidden": true
    }
   },
   "outputs": [
    {
     "name": "stderr",
     "output_type": "stream",
     "text": [
      "All model checkpoint layers were used when initializing TFXLMRobertaModel.\n",
      "\n",
      "All the layers of TFXLMRobertaModel were initialized from the model checkpoint at xlm-roberta-large.\n",
      "If your task is similar to the task the model of the checkpoint was trained on, you can already use TFXLMRobertaModel for predictions without further training.\n"
     ]
    }
   ],
   "source": [
    "with strategy.scope():\n",
    "    transformer_layer = TFAutoModel.from_pretrained(MODEL)\n",
    "    model = build_model(transformer_layer,\n",
    "                        max_len=MAX_LEN)"
   ]
  },
  {
   "cell_type": "markdown",
   "metadata": {},
   "source": [
    "## Training the model on Only English data for 2 epochs"
   ]
  },
  {
   "cell_type": "code",
   "execution_count": 11,
   "metadata": {
    "collapsed": true,
    "execution": {
     "iopub.execute_input": "2023-05-02T13:11:08.902624Z",
     "iopub.status.busy": "2023-05-02T13:11:08.901963Z",
     "iopub.status.idle": "2023-05-02T14:01:36.352669Z",
     "shell.execute_reply": "2023-05-02T14:01:36.351071Z",
     "shell.execute_reply.started": "2023-05-02T13:11:08.902587Z"
    }
   },
   "outputs": [
    {
     "name": "stdout",
     "output_type": "stream",
     "text": [
      "Epoch 1/2\n"
     ]
    },
    {
     "name": "stderr",
     "output_type": "stream",
     "text": [
      "/usr/local/lib/python3.8/site-packages/tensorflow/python/framework/indexed_slices.py:459: UserWarning: Converting sparse IndexedSlices to a dense Tensor with 256002048 elements. This may consume a large amount of memory.\n",
      "  warnings.warn(\n",
      "2023-05-02 13:12:35.144684: E tensorflow/core/grappler/optimizers/meta_optimizer.cc:954] model_pruner failed: INVALID_ARGUMENT: Graph does not contain terminal node Add_790/ReadVariableOp.\n",
      "2023-05-02 13:12:37.609046: E tensorflow/core/grappler/optimizers/meta_optimizer.cc:954] model_pruner failed: INVALID_ARGUMENT: Graph does not contain terminal node Add_790/ReadVariableOp.\n"
     ]
    },
    {
     "name": "stdout",
     "output_type": "stream",
     "text": [
      "3795/3795 [==============================] - ETA: 0s - loss: 0.0551 - auc: 0.9970"
     ]
    },
    {
     "name": "stderr",
     "output_type": "stream",
     "text": [
      "2023-05-02 13:37:41.315517: E tensorflow/core/grappler/optimizers/meta_optimizer.cc:954] model_pruner failed: INVALID_ARGUMENT: Graph does not contain terminal node Add/ReadVariableOp.\n",
      "2023-05-02 13:37:41.843120: E tensorflow/core/grappler/optimizers/meta_optimizer.cc:954] model_pruner failed: INVALID_ARGUMENT: Graph does not contain terminal node Add/ReadVariableOp.\n"
     ]
    },
    {
     "name": "stdout",
     "output_type": "stream",
     "text": [
      "3795/3795 [==============================] - 1621s 379ms/step - loss: 0.0551 - auc: 0.9970 - val_loss: 0.4215 - val_auc: 0.8906\n",
      "Epoch 2/2\n",
      "3795/3795 [==============================] - 1403s 370ms/step - loss: 0.0468 - auc: 0.9978 - val_loss: 0.3161 - val_auc: 0.8938\n"
     ]
    }
   ],
   "source": [
    "train_steps_per_epoch = train_inputs['input_ids'].shape[0] // BATCH_SIZE\n",
    "train_history = model.fit(train_dataset,\n",
    "                         steps_per_epoch=train_steps_per_epoch,\n",
    "                         validation_data=validation_dataset,\n",
    "                         epochs=2) "
   ]
  },
  {
   "cell_type": "markdown",
   "metadata": {},
   "source": [
    "## Training the model on Validation data for 2 epochs further to fine-tune on it"
   ]
  },
  {
   "cell_type": "code",
   "execution_count": 12,
   "metadata": {
    "execution": {
     "iopub.execute_input": "2023-05-02T14:01:42.835299Z",
     "iopub.status.busy": "2023-05-02T14:01:42.834338Z",
     "iopub.status.idle": "2023-05-02T14:03:54.004334Z",
     "shell.execute_reply": "2023-05-02T14:03:54.003019Z",
     "shell.execute_reply.started": "2023-05-02T14:01:42.835263Z"
    }
   },
   "outputs": [
    {
     "name": "stdout",
     "output_type": "stream",
     "text": [
      "Epoch 1/2\n",
      "62/62 [==============================] - 23s 366ms/step - loss: 0.2310 - auc: 0.9297\n",
      "Epoch 2/2\n",
      "62/62 [==============================] - 108s 366ms/step - loss: 0.1579 - auc: 0.9683\n"
     ]
    }
   ],
   "source": [
    "validation_steps_per_epoch = validation_inputs['input_ids'].shape[0] // BATCH_SIZE\n",
    "validation_history = model.fit(validation_dataset.repeat(),\n",
    "                              steps_per_epoch=validation_steps_per_epoch,\n",
    "                              epochs=2)"
   ]
  },
  {
   "cell_type": "markdown",
   "metadata": {},
   "source": [
    "## Submit to Competition"
   ]
  },
  {
   "cell_type": "code",
   "execution_count": 13,
   "metadata": {
    "execution": {
     "iopub.execute_input": "2023-05-02T14:03:57.784457Z",
     "iopub.status.busy": "2023-05-02T14:03:57.783703Z",
     "iopub.status.idle": "2023-05-02T14:05:18.942449Z",
     "shell.execute_reply": "2023-05-02T14:05:18.941011Z",
     "shell.execute_reply.started": "2023-05-02T14:03:57.784421Z"
    }
   },
   "outputs": [
    {
     "name": "stderr",
     "output_type": "stream",
     "text": [
      "2023-05-02 14:04:07.130406: E tensorflow/core/grappler/optimizers/meta_optimizer.cc:954] model_pruner failed: INVALID_ARGUMENT: Graph does not contain terminal node AssignAddVariableOp.\n",
      "2023-05-02 14:04:07.613220: E tensorflow/core/grappler/optimizers/meta_optimizer.cc:954] model_pruner failed: INVALID_ARGUMENT: Graph does not contain terminal node AssignAddVariableOp.\n"
     ]
    },
    {
     "name": "stdout",
     "output_type": "stream",
     "text": [
      "499/499 [==============================] - 80s 120ms/step\n"
     ]
    }
   ],
   "source": [
    "sub['toxic'] = model.predict(test_dataset, verbose=1)\n",
    "sub.to_csv('submission.csv', index=False)"
   ]
  },
  {
   "cell_type": "markdown",
   "metadata": {},
   "source": [
    "- Public Leaderboard Score: 0.9355 and Private Leaderboard Score: 0.9343"
   ]
  }
 ],
 "metadata": {
  "kernelspec": {
   "display_name": "Python 3",
   "language": "python",
   "name": "python3"
  },
  "language_info": {
   "codemirror_mode": {
    "name": "ipython",
    "version": 3
   },
   "file_extension": ".py",
   "mimetype": "text/x-python",
   "name": "python",
   "nbconvert_exporter": "python",
   "pygments_lexer": "ipython3",
   "version": "3.8.8"
  }
 },
 "nbformat": 4,
 "nbformat_minor": 4
}
